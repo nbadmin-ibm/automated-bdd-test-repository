{
    "metadata": {
        "name": null, 
        "kernelspec": {
            "display_name": "Python 2 with Spark 2.0", 
            "name": "python2-spark20", 
            "language": "python"
        }, 
        "dummy": null
    }, 
    "nbformat": 4, 
    "cells": [], 
    "nbformat_minor": 0
}