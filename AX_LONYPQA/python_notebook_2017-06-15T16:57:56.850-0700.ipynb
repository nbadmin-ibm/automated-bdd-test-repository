{
    "metadata": {
        "kernelspec": {
            "language": "python", 
            "display_name": "Python 2 with Spark 2.0", 
            "name": "python2-spark20"
        }, 
        "dummy": null, 
        "language_info": {
            "version": "2.7.11", 
            "file_extension": ".py", 
            "name": "python", 
            "nbconvert_exporter": "python", 
            "mimetype": "text/x-python", 
            "pygments_lexer": "ipython2", 
            "codemirror_mode": {
                "version": 2, 
                "name": "ipython"
            }
        }, 
        "name": null
    }, 
    "nbformat": 4, 
    "cells": [
        {
            "execution_count": null, 
            "metadata": {
                "collapsed": true
            }, 
            "outputs": [], 
            "source": "", 
            "cell_type": "code"
        }, 
        {
            "execution_count": null, 
            "metadata": {
                "collapsed": true
            }, 
            "outputs": [], 
            "source": "", 
            "cell_type": "code"
        }
    ], 
    "nbformat_minor": 0
}