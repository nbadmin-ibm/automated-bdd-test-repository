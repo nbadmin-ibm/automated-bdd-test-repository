{
    "nbformat_minor": 1, 
    "metadata": {
        "name": null, 
        "kernelspec": {
            "name": "python2-spark20", 
            "display_name": "Python 2 with Spark 2.0", 
            "language": "python"
        }, 
        "dummy": null, 
        "language_info": {
            "name": "python", 
            "codemirror_mode": {
                "name": "ipython", 
                "version": 2
            }, 
            "pygments_lexer": "ipython2", 
            "nbconvert_exporter": "python", 
            "mimetype": "text/x-python", 
            "file_extension": ".py", 
            "version": "2.7.11"
        }
    }, 
    "cells": [
        {
            "outputs": [], 
            "execution_count": null, 
            "metadata": {
                "collapsed": true
            }, 
            "cell_type": "code", 
            "source": ""
        }, 
        {
            "outputs": [], 
            "execution_count": null, 
            "metadata": {
                "collapsed": true
            }, 
            "cell_type": "code", 
            "source": ""
        }
    ], 
    "nbformat": 4
}