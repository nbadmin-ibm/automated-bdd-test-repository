{
    "nbformat": 4, 
    "nbformat_minor": 1, 
    "cells": [
        {
            "execution_count": null, 
            "outputs": [], 
            "cell_type": "code", 
            "source": "", 
            "metadata": {
                "collapsed": true
            }
        }, 
        {
            "execution_count": null, 
            "outputs": [], 
            "cell_type": "code", 
            "source": "", 
            "metadata": {
                "collapsed": true
            }
        }
    ], 
    "metadata": {
        "dummy": null, 
        "kernelspec": {
            "name": "python2-spark20", 
            "display_name": "Python 2 with Spark 2.0", 
            "language": "python"
        }, 
        "name": null
    }
}