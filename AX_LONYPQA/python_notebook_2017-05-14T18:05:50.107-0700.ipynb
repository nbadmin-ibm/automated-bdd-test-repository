{
    "metadata": {
        "name": null, 
        "kernelspec": {
            "language": "python", 
            "display_name": "Python 2 with Spark 2.0", 
            "name": "python2-spark20"
        }, 
        "dummy": null
    }, 
    "nbformat": 4, 
    "cells": [
        {
            "metadata": {
                "collapsed": true
            }, 
            "execution_count": null, 
            "outputs": [], 
            "cell_type": "code", 
            "source": ""
        }, 
        {
            "metadata": {
                "collapsed": true
            }, 
            "execution_count": null, 
            "outputs": [], 
            "cell_type": "code", 
            "source": ""
        }
    ], 
    "nbformat_minor": 0
}