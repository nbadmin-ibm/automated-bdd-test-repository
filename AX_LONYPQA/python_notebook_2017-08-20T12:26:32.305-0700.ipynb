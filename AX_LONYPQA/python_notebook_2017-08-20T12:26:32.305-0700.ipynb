{
    "nbformat": 4, 
    "nbformat_minor": 0, 
    "cells": [], 
    "metadata": {
        "dummy": null, 
        "kernelspec": {
            "name": "python2-spark20", 
            "display_name": "Python 2 with Spark 2.0", 
            "language": "python"
        }, 
        "name": null
    }
}