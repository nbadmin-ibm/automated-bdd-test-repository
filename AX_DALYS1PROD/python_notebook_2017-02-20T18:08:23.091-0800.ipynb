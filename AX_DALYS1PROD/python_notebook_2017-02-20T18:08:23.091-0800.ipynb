{
    "metadata": {
        "dummy": null, 
        "language_info": {
            "file_extension": ".py", 
            "codemirror_mode": {
                "name": "ipython", 
                "version": 2
            }, 
            "mimetype": "text/x-python", 
            "version": "2.7.11", 
            "pygments_lexer": "ipython2", 
            "nbconvert_exporter": "python", 
            "name": "python"
        }, 
        "name": null, 
        "kernelspec": {
            "name": "python2", 
            "language": "python", 
            "display_name": "Python 2 with Spark 1.6"
        }
    }, 
    "nbformat": 4, 
    "nbformat_minor": 0, 
    "cells": [
        {
            "execution_count": null, 
            "source": "", 
            "metadata": {
                "collapsed": true
            }, 
            "outputs": [], 
            "cell_type": "code"
        }, 
        {
            "execution_count": null, 
            "source": "", 
            "metadata": {
                "collapsed": true
            }, 
            "outputs": [], 
            "cell_type": "code"
        }, 
        {
            "execution_count": null, 
            "source": "", 
            "metadata": {
                "collapsed": true
            }, 
            "outputs": [], 
            "cell_type": "code"
        }
    ]
}