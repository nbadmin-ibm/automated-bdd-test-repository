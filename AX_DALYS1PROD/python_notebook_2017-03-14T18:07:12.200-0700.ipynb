{
    "nbformat": 4, 
    "nbformat_minor": 0, 
    "metadata": {
        "dummy": null, 
        "name": null, 
        "kernelspec": {
            "language": "python", 
            "name": "python2", 
            "display_name": "Python 2 with Spark 1.6"
        }
    }, 
    "cells": [
        {
            "execution_count": null, 
            "source": "", 
            "outputs": [], 
            "metadata": {
                "collapsed": true
            }, 
            "cell_type": "code"
        }, 
        {
            "execution_count": null, 
            "source": "", 
            "outputs": [], 
            "metadata": {
                "collapsed": true
            }, 
            "cell_type": "code"
        }
    ]
}