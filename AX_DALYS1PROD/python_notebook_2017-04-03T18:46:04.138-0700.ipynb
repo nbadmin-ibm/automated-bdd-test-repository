{
    "nbformat_minor": 0, 
    "metadata": {
        "name": null, 
        "kernelspec": {
            "name": "python2", 
            "display_name": "Python 2 with Spark 1.6", 
            "language": "python"
        }, 
        "dummy": null, 
        "language_info": {
            "name": "python", 
            "nbconvert_exporter": "python", 
            "file_extension": ".py", 
            "mimetype": "text/x-python", 
            "codemirror_mode": {
                "name": "ipython", 
                "version": 2
            }, 
            "version": "2.7.11", 
            "pygments_lexer": "ipython2"
        }
    }, 
    "cells": [
        {
            "outputs": [], 
            "execution_count": null, 
            "metadata": {
                "collapsed": true
            }, 
            "cell_type": "code", 
            "source": ""
        }, 
        {
            "outputs": [], 
            "execution_count": null, 
            "metadata": {
                "collapsed": true
            }, 
            "cell_type": "code", 
            "source": ""
        }, 
        {
            "outputs": [], 
            "execution_count": null, 
            "metadata": {
                "collapsed": true
            }, 
            "cell_type": "code", 
            "source": ""
        }, 
        {
            "outputs": [], 
            "execution_count": null, 
            "metadata": {
                "collapsed": true
            }, 
            "cell_type": "code", 
            "source": ""
        }, 
        {
            "outputs": [], 
            "execution_count": null, 
            "metadata": {
                "collapsed": true
            }, 
            "cell_type": "code", 
            "source": ""
        }
    ], 
    "nbformat": 4
}