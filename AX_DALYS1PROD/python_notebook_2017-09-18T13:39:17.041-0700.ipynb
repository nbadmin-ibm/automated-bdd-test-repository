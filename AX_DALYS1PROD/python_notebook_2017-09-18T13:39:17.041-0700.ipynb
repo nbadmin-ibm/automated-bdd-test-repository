{
    "metadata": {
        "name": null, 
        "language_info": {
            "codemirror_mode": {
                "name": "ipython", 
                "version": 2
            }, 
            "version": "2.7.11", 
            "file_extension": ".py", 
            "name": "python", 
            "pygments_lexer": "ipython2", 
            "nbconvert_exporter": "python", 
            "mimetype": "text/x-python"
        }, 
        "dummy": null, 
        "kernelspec": {
            "language": "python", 
            "name": "python2-spark20", 
            "display_name": "Python 2 with Spark 2.0"
        }
    }, 
    "nbformat": 4, 
    "cells": [
        {
            "metadata": {
                "collapsed": true
            }, 
            "execution_count": null, 
            "source": "", 
            "outputs": [], 
            "cell_type": "code"
        }, 
        {
            "metadata": {
                "collapsed": true
            }, 
            "execution_count": null, 
            "source": "", 
            "outputs": [], 
            "cell_type": "code"
        }
    ], 
    "nbformat_minor": 1
}