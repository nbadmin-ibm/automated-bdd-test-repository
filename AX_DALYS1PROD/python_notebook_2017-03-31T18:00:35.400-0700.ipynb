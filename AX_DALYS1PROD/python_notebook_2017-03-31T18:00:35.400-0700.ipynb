{
    "metadata": {
        "dummy": null, 
        "kernelspec": {
            "display_name": "Python 2 with Spark 1.6", 
            "language": "python", 
            "name": "python2"
        }, 
        "name": null
    }, 
    "cells": [], 
    "nbformat": 4, 
    "nbformat_minor": 0
}