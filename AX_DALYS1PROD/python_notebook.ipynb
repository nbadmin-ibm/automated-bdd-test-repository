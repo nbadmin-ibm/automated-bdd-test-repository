{
    "nbformat_minor": 0, 
    "metadata": {
        "kernelspec": {
            "language": "python", 
            "name": "python2", 
            "display_name": "Python 2 with Spark 1.6"
        }, 
        "name": null, 
        "dummy": null
    }, 
    "cells": [], 
    "nbformat": 4
}