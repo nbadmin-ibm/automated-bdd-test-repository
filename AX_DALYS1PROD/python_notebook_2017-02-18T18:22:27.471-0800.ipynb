{
    "nbformat": 4, 
    "cells": [
        {
            "cell_type": "code", 
            "execution_count": null, 
            "source": "", 
            "metadata": {
                "collapsed": true
            }, 
            "outputs": []
        }, 
        {
            "cell_type": "code", 
            "execution_count": null, 
            "source": "", 
            "metadata": {
                "collapsed": true
            }, 
            "outputs": []
        }
    ], 
    "metadata": {
        "kernelspec": {
            "display_name": "Python 2 with Spark 1.6", 
            "language": "python", 
            "name": "python2"
        }, 
        "name": null, 
        "dummy": null, 
        "language_info": {
            "version": "2.7.11", 
            "nbconvert_exporter": "python", 
            "mimetype": "text/x-python", 
            "file_extension": ".py", 
            "codemirror_mode": {
                "version": 2, 
                "name": "ipython"
            }, 
            "pygments_lexer": "ipython2", 
            "name": "python"
        }
    }, 
    "nbformat_minor": 0
}