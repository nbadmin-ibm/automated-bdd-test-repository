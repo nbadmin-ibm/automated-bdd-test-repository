{
    "cells": [
        {
            "cell_type": "code", 
            "outputs": [], 
            "execution_count": null, 
            "source": "", 
            "metadata": {
                "collapsed": true
            }
        }, 
        {
            "cell_type": "code", 
            "outputs": [], 
            "execution_count": null, 
            "source": "", 
            "metadata": {
                "collapsed": true
            }
        }, 
        {
            "cell_type": "code", 
            "outputs": [], 
            "execution_count": null, 
            "source": "", 
            "metadata": {
                "collapsed": true
            }
        }, 
        {
            "cell_type": "code", 
            "outputs": [], 
            "execution_count": null, 
            "source": "", 
            "metadata": {
                "collapsed": true
            }
        }, 
        {
            "cell_type": "code", 
            "outputs": [], 
            "execution_count": null, 
            "source": "", 
            "metadata": {
                "collapsed": true
            }
        }, 
        {
            "cell_type": "code", 
            "outputs": [], 
            "execution_count": null, 
            "source": "", 
            "metadata": {
                "collapsed": true
            }
        }
    ], 
    "nbformat": 4, 
    "nbformat_minor": 1, 
    "metadata": {
        "kernelspec": {
            "language": "python", 
            "display_name": "Python 2 with Spark 2.0", 
            "name": "python2-spark20"
        }, 
        "dummy": null, 
        "language_info": {
            "pygments_lexer": "ipython2", 
            "mimetype": "text/x-python", 
            "nbconvert_exporter": "python", 
            "name": "python", 
            "file_extension": ".py", 
            "version": "2.7.11", 
            "codemirror_mode": {
                "version": 2, 
                "name": "ipython"
            }
        }, 
        "name": null
    }
}