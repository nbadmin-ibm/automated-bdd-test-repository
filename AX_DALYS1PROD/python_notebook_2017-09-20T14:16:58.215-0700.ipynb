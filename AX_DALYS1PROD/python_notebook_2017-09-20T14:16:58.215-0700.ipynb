{
    "cells": [
        {
            "cell_type": "code", 
            "outputs": [], 
            "execution_count": null, 
            "source": "", 
            "metadata": {
                "collapsed": true
            }
        }, 
        {
            "cell_type": "code", 
            "outputs": [], 
            "execution_count": null, 
            "source": "", 
            "metadata": {
                "collapsed": true
            }
        }, 
        {
            "cell_type": "code", 
            "outputs": [], 
            "execution_count": null, 
            "source": "", 
            "metadata": {
                "collapsed": true
            }
        }, 
        {
            "cell_type": "code", 
            "outputs": [], 
            "execution_count": null, 
            "source": "", 
            "metadata": {
                "collapsed": true
            }
        }
    ], 
    "nbformat": 4, 
    "metadata": {
        "kernelspec": {
            "display_name": "Python 2 with Spark 2.0", 
            "language": "python", 
            "name": "python2-spark20"
        }, 
        "name": null, 
        "language_info": {
            "version": "2.7.11", 
            "mimetype": "text/x-python", 
            "nbconvert_exporter": "python", 
            "file_extension": ".py", 
            "codemirror_mode": {
                "version": 2, 
                "name": "ipython"
            }, 
            "name": "python", 
            "pygments_lexer": "ipython2"
        }, 
        "dummy": null
    }, 
    "nbformat_minor": 1
}