{
    "metadata": {
        "kernelspec": {
            "language": "python", 
            "display_name": "Python 2 with Spark 2.0", 
            "name": "python2-spark20"
        }, 
        "language_info": {
            "version": "2.7.11", 
            "file_extension": ".py", 
            "mimetype": "text/x-python", 
            "codemirror_mode": {
                "version": 2, 
                "name": "ipython"
            }, 
            "name": "python", 
            "nbconvert_exporter": "python", 
            "pygments_lexer": "ipython2"
        }, 
        "dummy": null, 
        "name": null
    }, 
    "cells": [
        {
            "outputs": [], 
            "cell_type": "code", 
            "source": "", 
            "execution_count": null, 
            "metadata": {
                "collapsed": true
            }
        }, 
        {
            "outputs": [], 
            "cell_type": "code", 
            "source": "", 
            "execution_count": null, 
            "metadata": {
                "collapsed": true
            }
        }
    ], 
    "nbformat": 4, 
    "nbformat_minor": 0
}