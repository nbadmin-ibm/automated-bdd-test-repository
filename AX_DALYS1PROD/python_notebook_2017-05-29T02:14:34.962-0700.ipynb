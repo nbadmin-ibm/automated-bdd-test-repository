{
    "nbformat": 4, 
    "cells": [
        {
            "cell_type": "code", 
            "outputs": [], 
            "source": "", 
            "execution_count": null, 
            "metadata": {
                "collapsed": true
            }
        }, 
        {
            "cell_type": "code", 
            "outputs": [], 
            "source": "", 
            "execution_count": null, 
            "metadata": {
                "collapsed": true
            }
        }, 
        {
            "cell_type": "code", 
            "outputs": [], 
            "source": "", 
            "execution_count": null, 
            "metadata": {
                "collapsed": true
            }
        }, 
        {
            "cell_type": "code", 
            "outputs": [], 
            "source": "", 
            "execution_count": null, 
            "metadata": {
                "collapsed": true
            }
        }, 
        {
            "cell_type": "code", 
            "outputs": [], 
            "source": "", 
            "execution_count": null, 
            "metadata": {
                "collapsed": true
            }
        }, 
        {
            "cell_type": "code", 
            "outputs": [], 
            "source": "", 
            "execution_count": null, 
            "metadata": {
                "collapsed": true
            }
        }
    ], 
    "metadata": {
        "kernelspec": {
            "display_name": "Python 2 with Spark 2.0", 
            "language": "python", 
            "name": "python2-spark20"
        }, 
        "name": null, 
        "dummy": null, 
        "language_info": {
            "name": "python", 
            "pygments_lexer": "ipython2", 
            "version": "2.7.11", 
            "codemirror_mode": {
                "version": 2, 
                "name": "ipython"
            }, 
            "nbconvert_exporter": "python", 
            "mimetype": "text/x-python", 
            "file_extension": ".py"
        }
    }, 
    "nbformat_minor": 0
}