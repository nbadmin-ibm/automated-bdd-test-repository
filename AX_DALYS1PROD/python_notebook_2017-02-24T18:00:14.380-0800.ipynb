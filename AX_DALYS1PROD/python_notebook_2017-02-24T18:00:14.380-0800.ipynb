{
    "nbformat": 4, 
    "nbformat_minor": 0, 
    "cells": [
        {
            "execution_count": null, 
            "outputs": [], 
            "cell_type": "code", 
            "source": "", 
            "metadata": {
                "collapsed": true
            }
        }, 
        {
            "execution_count": null, 
            "outputs": [], 
            "cell_type": "code", 
            "source": "", 
            "metadata": {
                "collapsed": true
            }
        }
    ], 
    "metadata": {
        "dummy": null, 
        "kernelspec": {
            "name": "python2", 
            "display_name": "Python 2 with Spark 1.6", 
            "language": "python"
        }, 
        "name": null, 
        "language_info": {
            "nbconvert_exporter": "python", 
            "mimetype": "text/x-python", 
            "pygments_lexer": "ipython2", 
            "name": "python", 
            "version": "2.7.11", 
            "file_extension": ".py", 
            "codemirror_mode": {
                "version": 2, 
                "name": "ipython"
            }
        }
    }
}