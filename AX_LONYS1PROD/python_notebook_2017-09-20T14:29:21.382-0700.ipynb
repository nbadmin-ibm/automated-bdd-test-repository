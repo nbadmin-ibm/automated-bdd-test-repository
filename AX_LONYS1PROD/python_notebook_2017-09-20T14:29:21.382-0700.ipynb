{
    "nbformat_minor": 0, 
    "metadata": {
        "kernelspec": {
            "language": "python", 
            "name": "python2-spark20", 
            "display_name": "Python 2 with Spark 2.0"
        }, 
        "name": null, 
        "dummy": null
    }, 
    "cells": [], 
    "nbformat": 4
}