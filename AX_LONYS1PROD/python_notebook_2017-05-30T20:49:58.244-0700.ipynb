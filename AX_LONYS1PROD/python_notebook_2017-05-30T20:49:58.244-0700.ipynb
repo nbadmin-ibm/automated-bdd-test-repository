{
    "nbformat_minor": 0, 
    "metadata": {
        "name": null, 
        "kernelspec": {
            "name": "python2-spark20", 
            "display_name": "Python 2 with Spark 2.0", 
            "language": "python"
        }, 
        "dummy": null, 
        "language_info": {
            "name": "python", 
            "mimetype": "text/x-python", 
            "pygments_lexer": "ipython2", 
            "nbconvert_exporter": "python", 
            "version": "2.7.11", 
            "file_extension": ".py", 
            "codemirror_mode": {
                "name": "ipython", 
                "version": 2
            }
        }
    }, 
    "cells": [
        {
            "outputs": [], 
            "execution_count": null, 
            "metadata": {
                "collapsed": true
            }, 
            "cell_type": "code", 
            "source": ""
        }, 
        {
            "outputs": [], 
            "execution_count": null, 
            "metadata": {
                "collapsed": true
            }, 
            "cell_type": "code", 
            "source": ""
        }, 
        {
            "outputs": [], 
            "execution_count": null, 
            "metadata": {
                "collapsed": true
            }, 
            "cell_type": "code", 
            "source": ""
        }
    ], 
    "nbformat": 4
}