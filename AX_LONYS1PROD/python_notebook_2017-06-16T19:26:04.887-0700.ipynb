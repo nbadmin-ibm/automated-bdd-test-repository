{
    "nbformat": 4, 
    "nbformat_minor": 0, 
    "metadata": {
        "dummy": null, 
        "language_info": {
            "nbconvert_exporter": "python", 
            "codemirror_mode": {
                "name": "ipython", 
                "version": 2
            }, 
            "version": "2.7.11", 
            "file_extension": ".py", 
            "pygments_lexer": "ipython2", 
            "name": "python", 
            "mimetype": "text/x-python"
        }, 
        "name": null, 
        "kernelspec": {
            "language": "python", 
            "name": "python2-spark20", 
            "display_name": "Python 2 with Spark 2.0"
        }
    }, 
    "cells": [
        {
            "execution_count": null, 
            "source": "", 
            "outputs": [], 
            "metadata": {
                "collapsed": true
            }, 
            "cell_type": "code"
        }, 
        {
            "execution_count": null, 
            "source": "", 
            "outputs": [], 
            "metadata": {
                "collapsed": true
            }, 
            "cell_type": "code"
        }, 
        {
            "execution_count": null, 
            "source": "", 
            "outputs": [], 
            "metadata": {
                "collapsed": true
            }, 
            "cell_type": "code"
        }
    ]
}