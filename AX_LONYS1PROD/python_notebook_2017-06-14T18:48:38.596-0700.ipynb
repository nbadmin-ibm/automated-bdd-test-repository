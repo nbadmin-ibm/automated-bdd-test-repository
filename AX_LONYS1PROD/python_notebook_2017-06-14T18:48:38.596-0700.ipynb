{
    "cells": [
        {
            "cell_type": "code", 
            "outputs": [], 
            "metadata": {
                "collapsed": true
            }, 
            "source": "", 
            "execution_count": null
        }, 
        {
            "cell_type": "code", 
            "outputs": [], 
            "metadata": {
                "collapsed": true
            }, 
            "source": "", 
            "execution_count": null
        }
    ], 
    "nbformat": 4, 
    "metadata": {
        "kernelspec": {
            "display_name": "Python 2 with Spark 2.0", 
            "language": "python", 
            "name": "python2-spark20"
        }, 
        "name": null, 
        "language_info": {
            "codemirror_mode": {
                "version": 2, 
                "name": "ipython"
            }, 
            "pygments_lexer": "ipython2", 
            "version": "2.7.11", 
            "mimetype": "text/x-python", 
            "name": "python", 
            "file_extension": ".py", 
            "nbconvert_exporter": "python"
        }, 
        "dummy": null
    }, 
    "nbformat_minor": 0
}