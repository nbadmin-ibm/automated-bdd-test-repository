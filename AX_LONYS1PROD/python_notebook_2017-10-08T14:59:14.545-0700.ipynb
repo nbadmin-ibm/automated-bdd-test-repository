{
    "nbformat": 4, 
    "metadata": {
        "dummy": null, 
        "language_info": {
            "pygments_lexer": "ipython2", 
            "name": "python", 
            "mimetype": "text/x-python", 
            "version": "2.7.11", 
            "codemirror_mode": {
                "version": 2, 
                "name": "ipython"
            }, 
            "file_extension": ".py", 
            "nbconvert_exporter": "python"
        }, 
        "name": null, 
        "kernelspec": {
            "language": "python", 
            "name": "python2-spark20", 
            "display_name": "Python 2 with Spark 2.0"
        }
    }, 
    "cells": [
        {
            "execution_count": null, 
            "metadata": {
                "collapsed": true
            }, 
            "cell_type": "code", 
            "outputs": [], 
            "source": ""
        }, 
        {
            "execution_count": null, 
            "metadata": {
                "collapsed": true
            }, 
            "cell_type": "code", 
            "outputs": [], 
            "source": ""
        }
    ], 
    "nbformat_minor": 1
}