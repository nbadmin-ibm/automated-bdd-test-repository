{
    "nbformat_minor": 0, 
    "cells": [], 
    "metadata": {
        "kernelspec": {
            "display_name": "Python 2 with Spark 1.6", 
            "name": "python2", 
            "language": "python"
        }, 
        "dummy": null, 
        "name": null
    }, 
    "nbformat": 4
}