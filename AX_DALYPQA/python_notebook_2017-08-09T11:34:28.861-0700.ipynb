{
    "cells": [], 
    "nbformat": 4, 
    "metadata": {
        "dummy": null, 
        "kernelspec": {
            "language": "python", 
            "name": "python2-spark20", 
            "display_name": "Python 2 with Spark 2.0"
        }, 
        "name": null
    }, 
    "nbformat_minor": 0
}