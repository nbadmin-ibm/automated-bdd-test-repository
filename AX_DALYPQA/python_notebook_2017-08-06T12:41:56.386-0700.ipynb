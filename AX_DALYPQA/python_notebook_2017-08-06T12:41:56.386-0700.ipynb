{
    "cells": [
        {
            "cell_type": "code", 
            "metadata": {
                "collapsed": true
            }, 
            "outputs": [], 
            "execution_count": null, 
            "source": ""
        }, 
        {
            "cell_type": "code", 
            "metadata": {
                "collapsed": true
            }, 
            "outputs": [], 
            "execution_count": null, 
            "source": ""
        }, 
        {
            "cell_type": "code", 
            "metadata": {
                "collapsed": true
            }, 
            "outputs": [], 
            "execution_count": null, 
            "source": ""
        }, 
        {
            "cell_type": "code", 
            "metadata": {
                "collapsed": true
            }, 
            "outputs": [], 
            "execution_count": null, 
            "source": ""
        }
    ], 
    "metadata": {
        "kernelspec": {
            "display_name": "Python 2 with Spark 2.0", 
            "name": "python2-spark20", 
            "language": "python"
        }, 
        "name": null, 
        "language_info": {
            "file_extension": ".py", 
            "name": "python", 
            "version": "2.7.11", 
            "codemirror_mode": {
                "version": 2, 
                "name": "ipython"
            }, 
            "mimetype": "text/x-python", 
            "pygments_lexer": "ipython2", 
            "nbconvert_exporter": "python"
        }, 
        "dummy": null
    }, 
    "nbformat_minor": 1, 
    "nbformat": 4
}