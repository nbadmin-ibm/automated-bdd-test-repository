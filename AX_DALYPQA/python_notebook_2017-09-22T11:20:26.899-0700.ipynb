{
    "nbformat_minor": 0, 
    "metadata": {
        "name": null, 
        "kernelspec": {
            "language": "python", 
            "name": "python2-spark20", 
            "display_name": "Python 2 with Spark 2.0"
        }, 
        "dummy": null
    }, 
    "nbformat": 4, 
    "cells": []
}