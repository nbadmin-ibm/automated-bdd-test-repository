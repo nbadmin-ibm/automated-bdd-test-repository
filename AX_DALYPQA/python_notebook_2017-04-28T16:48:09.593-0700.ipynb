{
    "nbformat": 4, 
    "cells": [
        {
            "execution_count": null, 
            "cell_type": "code", 
            "metadata": {
                "collapsed": true
            }, 
            "source": "", 
            "outputs": []
        }, 
        {
            "execution_count": null, 
            "cell_type": "code", 
            "metadata": {
                "collapsed": true
            }, 
            "source": "", 
            "outputs": []
        }
    ], 
    "metadata": {
        "dummy": null, 
        "kernelspec": {
            "language": "python", 
            "display_name": "Python 2 with Spark 2.0", 
            "name": "python2-spark20"
        }, 
        "name": null
    }, 
    "nbformat_minor": 0
}