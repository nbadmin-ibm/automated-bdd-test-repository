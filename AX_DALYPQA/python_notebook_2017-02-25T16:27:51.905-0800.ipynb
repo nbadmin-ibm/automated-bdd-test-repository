{
    "metadata": {
        "name": null, 
        "kernelspec": {
            "name": "python2", 
            "display_name": "Python 2 with Spark 1.6", 
            "language": "python"
        }, 
        "dummy": null, 
        "language_info": {
            "codemirror_mode": {
                "version": 2, 
                "name": "ipython"
            }, 
            "name": "python", 
            "mimetype": "text/x-python", 
            "pygments_lexer": "ipython2", 
            "version": "2.7.11", 
            "file_extension": ".py", 
            "nbconvert_exporter": "python"
        }
    }, 
    "cells": [
        {
            "metadata": {
                "collapsed": true
            }, 
            "cell_type": "code", 
            "outputs": [], 
            "execution_count": null, 
            "source": ""
        }, 
        {
            "metadata": {
                "collapsed": true
            }, 
            "cell_type": "code", 
            "outputs": [], 
            "execution_count": null, 
            "source": ""
        }
    ], 
    "nbformat_minor": 0, 
    "nbformat": 4
}