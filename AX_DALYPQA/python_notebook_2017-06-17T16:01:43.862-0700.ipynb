{
    "metadata": {
        "dummy": null, 
        "kernelspec": {
            "display_name": "Python 2 with Spark 2.0", 
            "language": "python", 
            "name": "python2-spark20"
        }, 
        "name": null
    }, 
    "cells": [], 
    "nbformat": 4, 
    "nbformat_minor": 0
}