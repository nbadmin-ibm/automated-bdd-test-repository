{
    "metadata": {
        "kernelspec": {
            "language": "python", 
            "display_name": "Python 2 with Spark 1.6", 
            "name": "python2"
        }, 
        "dummy": null, 
        "name": null
    }, 
    "cells": [], 
    "nbformat": 4, 
    "nbformat_minor": 0
}