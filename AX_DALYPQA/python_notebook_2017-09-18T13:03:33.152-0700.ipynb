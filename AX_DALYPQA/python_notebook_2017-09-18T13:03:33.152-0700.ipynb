{
    "metadata": {
        "dummy": null, 
        "language_info": {
            "version": "2.7.11", 
            "nbconvert_exporter": "python", 
            "file_extension": ".py", 
            "mimetype": "text/x-python", 
            "codemirror_mode": {
                "version": 2, 
                "name": "ipython"
            }, 
            "pygments_lexer": "ipython2", 
            "name": "python"
        }, 
        "kernelspec": {
            "display_name": "Python 2 with Spark 2.0", 
            "language": "python", 
            "name": "python2-spark20"
        }, 
        "name": null
    }, 
    "cells": [
        {
            "metadata": {
                "collapsed": true
            }, 
            "cell_type": "code", 
            "execution_count": null, 
            "outputs": [], 
            "source": ""
        }, 
        {
            "metadata": {
                "collapsed": true
            }, 
            "cell_type": "code", 
            "execution_count": null, 
            "outputs": [], 
            "source": ""
        }, 
        {
            "metadata": {
                "collapsed": true
            }, 
            "cell_type": "code", 
            "execution_count": null, 
            "outputs": [], 
            "source": ""
        }, 
        {
            "metadata": {
                "collapsed": true
            }, 
            "cell_type": "code", 
            "execution_count": null, 
            "outputs": [], 
            "source": ""
        }
    ], 
    "nbformat": 4, 
    "nbformat_minor": 1
}