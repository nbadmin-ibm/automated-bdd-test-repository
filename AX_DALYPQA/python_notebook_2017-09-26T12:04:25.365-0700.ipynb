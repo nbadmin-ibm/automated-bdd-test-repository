{
    "nbformat": 4, 
    "cells": [
        {
            "source": "", 
            "cell_type": "code", 
            "metadata": {
                "collapsed": true
            }, 
            "execution_count": null, 
            "outputs": []
        }, 
        {
            "source": "", 
            "cell_type": "code", 
            "metadata": {
                "collapsed": true
            }, 
            "execution_count": null, 
            "outputs": []
        }
    ], 
    "metadata": {
        "language_info": {
            "file_extension": ".py", 
            "nbconvert_exporter": "python", 
            "pygments_lexer": "ipython2", 
            "name": "python", 
            "codemirror_mode": {
                "version": 2, 
                "name": "ipython"
            }, 
            "mimetype": "text/x-python", 
            "version": "2.7.11"
        }, 
        "dummy": null, 
        "kernelspec": {
            "language": "python", 
            "display_name": "Python 2 with Spark 2.0", 
            "name": "python2-spark20"
        }, 
        "name": null
    }, 
    "nbformat_minor": 1
}