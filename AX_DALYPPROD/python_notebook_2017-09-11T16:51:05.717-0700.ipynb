{
    "metadata": {
        "kernelspec": {
            "language": "python", 
            "display_name": "Python 2 with Spark 2.0", 
            "name": "python2-spark20"
        }, 
        "dummy": null, 
        "name": null
    }, 
    "cells": [
        {
            "execution_count": null, 
            "cell_type": "code", 
            "outputs": [], 
            "metadata": {
                "collapsed": true
            }, 
            "source": ""
        }, 
        {
            "execution_count": null, 
            "cell_type": "code", 
            "outputs": [], 
            "metadata": {
                "collapsed": true
            }, 
            "source": ""
        }, 
        {
            "execution_count": null, 
            "cell_type": "code", 
            "outputs": [], 
            "metadata": {
                "collapsed": true
            }, 
            "source": ""
        }
    ], 
    "nbformat": 4, 
    "nbformat_minor": 1
}