{
    "nbformat": 4, 
    "cells": [], 
    "metadata": {
        "dummy": null, 
        "kernelspec": {
            "language": "python", 
            "display_name": "Python 2 with Spark 1.6", 
            "name": "python2"
        }, 
        "name": null
    }, 
    "nbformat_minor": 0
}