{
    "nbformat": 4, 
    "nbformat_minor": 0, 
    "cells": [], 
    "metadata": {
        "dummy": null, 
        "kernelspec": {
            "name": "python2", 
            "display_name": "Python 2 with Spark 1.6", 
            "language": "python"
        }, 
        "name": null
    }
}