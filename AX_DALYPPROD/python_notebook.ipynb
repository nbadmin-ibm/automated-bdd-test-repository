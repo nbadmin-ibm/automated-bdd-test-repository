{
    "nbformat": 4, 
    "cells": [], 
    "metadata": {
        "kernelspec": {
            "display_name": "Python 2 with Spark 1.6", 
            "language": "python", 
            "name": "python2"
        }, 
        "name": null, 
        "dummy": null
    }, 
    "nbformat_minor": 0
}