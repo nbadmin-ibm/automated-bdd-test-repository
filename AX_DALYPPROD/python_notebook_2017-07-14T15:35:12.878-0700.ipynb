{
    "cells": [
        {
            "cell_type": "code", 
            "execution_count": null, 
            "metadata": {
                "collapsed": true
            }, 
            "outputs": [], 
            "source": ""
        }, 
        {
            "cell_type": "code", 
            "execution_count": null, 
            "metadata": {
                "collapsed": true
            }, 
            "outputs": [], 
            "source": ""
        }
    ], 
    "nbformat": 4, 
    "metadata": {
        "kernelspec": {
            "display_name": "Python 2 with Spark 2.0", 
            "language": "python", 
            "name": "python2-spark20"
        }, 
        "name": null, 
        "dummy": null
    }, 
    "nbformat_minor": 1
}