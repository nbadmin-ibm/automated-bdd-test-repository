{
    "metadata": {
        "name": null, 
        "dummy": null, 
        "kernelspec": {
            "name": "python2-spark20", 
            "display_name": "Python 2 with Spark 2.0", 
            "language": "python"
        }
    }, 
    "cells": [], 
    "nbformat_minor": 0, 
    "nbformat": 4
}