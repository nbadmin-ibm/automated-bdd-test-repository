{
    "metadata": {
        "dummy": null, 
        "language_info": {
            "name": "python", 
            "pygments_lexer": "ipython2", 
            "file_extension": ".py", 
            "nbconvert_exporter": "python", 
            "mimetype": "text/x-python", 
            "codemirror_mode": {
                "name": "ipython", 
                "version": 2
            }, 
            "version": "2.7.11"
        }, 
        "name": null, 
        "kernelspec": {
            "name": "python2", 
            "language": "python", 
            "display_name": "Python 2 with Spark 1.6"
        }
    }, 
    "nbformat": 4, 
    "nbformat_minor": 0, 
    "cells": [
        {
            "outputs": [], 
            "source": "", 
            "metadata": {
                "collapsed": true
            }, 
            "execution_count": null, 
            "cell_type": "code"
        }, 
        {
            "outputs": [], 
            "source": "", 
            "metadata": {
                "collapsed": true
            }, 
            "execution_count": null, 
            "cell_type": "code"
        }
    ]
}