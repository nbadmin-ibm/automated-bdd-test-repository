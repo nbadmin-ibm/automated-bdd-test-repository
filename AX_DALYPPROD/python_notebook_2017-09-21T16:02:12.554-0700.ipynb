{
    "cells": [
        {
            "cell_type": "code", 
            "outputs": [], 
            "execution_count": null, 
            "metadata": {
                "collapsed": true
            }, 
            "source": ""
        }, 
        {
            "cell_type": "code", 
            "outputs": [], 
            "execution_count": null, 
            "metadata": {
                "collapsed": true
            }, 
            "source": ""
        }
    ], 
    "nbformat": 4, 
    "metadata": {
        "dummy": null, 
        "kernelspec": {
            "language": "python", 
            "name": "python2-spark20", 
            "display_name": "Python 2 with Spark 2.0"
        }, 
        "name": null, 
        "language_info": {
            "version": "2.7.11", 
            "nbconvert_exporter": "python", 
            "mimetype": "text/x-python", 
            "name": "python", 
            "file_extension": ".py", 
            "pygments_lexer": "ipython2", 
            "codemirror_mode": {
                "version": 2, 
                "name": "ipython"
            }
        }
    }, 
    "nbformat_minor": 1
}