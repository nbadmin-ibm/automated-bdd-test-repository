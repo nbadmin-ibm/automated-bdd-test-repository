{
    "nbformat": 4, 
    "nbformat_minor": 0, 
    "metadata": {
        "dummy": null, 
        "name": null, 
        "kernelspec": {
            "language": "python", 
            "name": "python2-spark20", 
            "display_name": "Python 2 with Spark 2.0"
        }
    }, 
    "cells": []
}