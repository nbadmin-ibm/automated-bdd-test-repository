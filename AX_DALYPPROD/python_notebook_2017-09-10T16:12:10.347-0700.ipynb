{
    "nbformat_minor": 0, 
    "cells": [], 
    "metadata": {
        "kernelspec": {
            "display_name": "Python 2 with Spark 2.0", 
            "name": "python2-spark20", 
            "language": "python"
        }, 
        "name": null, 
        "dummy": null
    }, 
    "nbformat": 4
}