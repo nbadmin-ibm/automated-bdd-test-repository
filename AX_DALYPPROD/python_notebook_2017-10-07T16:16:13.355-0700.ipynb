{
    "cells": [
        {
            "cell_type": "code", 
            "metadata": {
                "collapsed": true
            }, 
            "execution_count": null, 
            "outputs": [], 
            "source": ""
        }, 
        {
            "cell_type": "code", 
            "metadata": {
                "collapsed": true
            }, 
            "execution_count": null, 
            "outputs": [], 
            "source": ""
        }
    ], 
    "metadata": {
        "kernelspec": {
            "display_name": "Python 2 with Spark 2.0", 
            "name": "python2-spark20", 
            "language": "python"
        }, 
        "name": null, 
        "language_info": {
            "mimetype": "text/x-python", 
            "name": "python", 
            "pygments_lexer": "ipython2", 
            "version": "2.7.11", 
            "file_extension": ".py", 
            "codemirror_mode": {
                "version": 2, 
                "name": "ipython"
            }, 
            "nbconvert_exporter": "python"
        }, 
        "dummy": null
    }, 
    "nbformat_minor": 1, 
    "nbformat": 4
}