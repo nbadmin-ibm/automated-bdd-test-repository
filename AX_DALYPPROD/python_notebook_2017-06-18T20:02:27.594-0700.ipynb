{
    "nbformat": 4, 
    "cells": [
        {
            "execution_count": null, 
            "source": "", 
            "cell_type": "code", 
            "metadata": {
                "collapsed": true
            }, 
            "outputs": []
        }, 
        {
            "execution_count": null, 
            "source": "", 
            "cell_type": "code", 
            "metadata": {
                "collapsed": true
            }, 
            "outputs": []
        }
    ], 
    "metadata": {
        "dummy": null, 
        "kernelspec": {
            "language": "python", 
            "display_name": "Python 2 with Spark 2.0", 
            "name": "python2-spark20"
        }, 
        "name": null
    }, 
    "nbformat_minor": 0
}