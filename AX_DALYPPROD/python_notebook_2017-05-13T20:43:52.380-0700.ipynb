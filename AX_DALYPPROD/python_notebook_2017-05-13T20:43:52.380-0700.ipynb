{
    "nbformat": 4, 
    "cells": [], 
    "metadata": {
        "kernelspec": {
            "display_name": "Python 2 with Spark 2.0", 
            "language": "python", 
            "name": "python2-spark20"
        }, 
        "name": null, 
        "dummy": null
    }, 
    "nbformat_minor": 0
}