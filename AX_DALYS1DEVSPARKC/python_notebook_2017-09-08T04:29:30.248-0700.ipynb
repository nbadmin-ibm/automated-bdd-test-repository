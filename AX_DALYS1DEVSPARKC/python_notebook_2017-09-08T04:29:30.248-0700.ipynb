{
    "nbformat": 4, 
    "metadata": {
        "name": null, 
        "dummy": null, 
        "kernelspec": {
            "name": "python2-spark20", 
            "display_name": "Python 2 with Spark 2.0", 
            "language": "python"
        }
    }, 
    "nbformat_minor": 1, 
    "cells": [
        {
            "execution_count": null, 
            "metadata": {
                "collapsed": true
            }, 
            "outputs": [], 
            "source": "", 
            "cell_type": "code"
        }, 
        {
            "execution_count": null, 
            "metadata": {
                "collapsed": true
            }, 
            "outputs": [], 
            "source": "", 
            "cell_type": "code"
        }
    ]
}