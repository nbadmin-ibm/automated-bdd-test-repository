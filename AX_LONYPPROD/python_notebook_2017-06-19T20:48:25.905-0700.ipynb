{
    "nbformat_minor": 0, 
    "metadata": {
        "language_info": {
            "name": "python", 
            "version": "2.7.11", 
            "pygments_lexer": "ipython2", 
            "nbconvert_exporter": "python", 
            "file_extension": ".py", 
            "mimetype": "text/x-python", 
            "codemirror_mode": {
                "name": "ipython", 
                "version": 2
            }
        }, 
        "kernelspec": {
            "language": "python", 
            "name": "python2-spark20", 
            "display_name": "Python 2 with Spark 2.0"
        }, 
        "name": null, 
        "dummy": null
    }, 
    "cells": [
        {
            "execution_count": null, 
            "source": "", 
            "metadata": {
                "collapsed": true
            }, 
            "cell_type": "code", 
            "outputs": []
        }, 
        {
            "execution_count": null, 
            "source": "", 
            "metadata": {
                "collapsed": true
            }, 
            "cell_type": "code", 
            "outputs": []
        }, 
        {
            "execution_count": null, 
            "source": "", 
            "metadata": {
                "collapsed": true
            }, 
            "cell_type": "code", 
            "outputs": []
        }
    ], 
    "nbformat": 4
}