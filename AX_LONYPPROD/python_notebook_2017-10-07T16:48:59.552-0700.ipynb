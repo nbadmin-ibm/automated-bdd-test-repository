{
    "metadata": {
        "name": null, 
        "dummy": null, 
        "kernelspec": {
            "language": "python", 
            "name": "python2-spark20", 
            "display_name": "Python 2 with Spark 2.0"
        }
    }, 
    "nbformat": 4, 
    "cells": [
        {
            "metadata": {
                "collapsed": true
            }, 
            "cell_type": "code", 
            "source": "", 
            "outputs": [], 
            "execution_count": null
        }, 
        {
            "metadata": {
                "collapsed": true
            }, 
            "cell_type": "code", 
            "source": "", 
            "outputs": [], 
            "execution_count": null
        }
    ], 
    "nbformat_minor": 1
}