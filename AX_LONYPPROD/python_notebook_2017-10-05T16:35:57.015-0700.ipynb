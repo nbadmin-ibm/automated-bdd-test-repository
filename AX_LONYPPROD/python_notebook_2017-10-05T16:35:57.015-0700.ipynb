{
    "metadata": {
        "name": null, 
        "language_info": {
            "name": "python", 
            "pygments_lexer": "ipython2", 
            "nbconvert_exporter": "python", 
            "mimetype": "text/x-python", 
            "codemirror_mode": {
                "name": "ipython", 
                "version": 2
            }, 
            "version": "2.7.11", 
            "file_extension": ".py"
        }, 
        "dummy": null, 
        "kernelspec": {
            "language": "python", 
            "name": "python2-spark20", 
            "display_name": "Python 2 with Spark 2.0"
        }
    }, 
    "nbformat": 4, 
    "cells": [
        {
            "metadata": {
                "collapsed": true
            }, 
            "cell_type": "code", 
            "source": "", 
            "outputs": [], 
            "execution_count": null
        }, 
        {
            "metadata": {
                "collapsed": true
            }, 
            "cell_type": "code", 
            "source": "", 
            "outputs": [], 
            "execution_count": null
        }
    ], 
    "nbformat_minor": 1
}