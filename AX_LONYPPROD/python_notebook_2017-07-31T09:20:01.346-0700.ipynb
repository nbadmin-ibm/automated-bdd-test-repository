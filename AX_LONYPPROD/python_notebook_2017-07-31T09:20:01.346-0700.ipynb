{
    "metadata": {
        "name": null, 
        "kernelspec": {
            "name": "python2-spark20", 
            "display_name": "Python 2 with Spark 2.0", 
            "language": "python"
        }, 
        "dummy": null
    }, 
    "cells": [], 
    "nbformat_minor": 0, 
    "nbformat": 4
}