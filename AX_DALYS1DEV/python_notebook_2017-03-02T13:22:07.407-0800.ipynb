{
    "metadata": {
        "kernelspec": {
            "language": "python", 
            "display_name": "Python 2 with Spark 1.6", 
            "name": "python2"
        }, 
        "dummy": null, 
        "name": null
    }, 
    "nbformat": 4, 
    "cells": [], 
    "nbformat_minor": 0
}