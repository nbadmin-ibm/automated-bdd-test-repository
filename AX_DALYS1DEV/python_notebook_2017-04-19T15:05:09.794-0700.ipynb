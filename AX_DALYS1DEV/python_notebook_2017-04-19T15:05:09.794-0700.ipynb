{
    "cells": [], 
    "nbformat": 4, 
    "metadata": {
        "kernelspec": {
            "display_name": "Python 2 with Spark 1.6", 
            "language": "python", 
            "name": "python2"
        }, 
        "name": null, 
        "dummy": null
    }, 
    "nbformat_minor": 0
}