{
    "nbformat": 4, 
    "metadata": {
        "name": null, 
        "dummy": null, 
        "kernelspec": {
            "name": "python2", 
            "display_name": "Python 2 with Spark 1.6", 
            "language": "python"
        }
    }, 
    "nbformat_minor": 0, 
    "cells": []
}