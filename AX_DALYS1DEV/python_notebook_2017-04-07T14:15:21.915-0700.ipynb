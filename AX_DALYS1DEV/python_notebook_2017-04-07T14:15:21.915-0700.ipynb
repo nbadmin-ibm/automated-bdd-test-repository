{
    "cells": [
        {
            "cell_type": "code", 
            "metadata": {
                "collapsed": true
            }, 
            "outputs": [], 
            "execution_count": null, 
            "source": ""
        }, 
        {
            "cell_type": "code", 
            "metadata": {
                "collapsed": true
            }, 
            "outputs": [], 
            "execution_count": null, 
            "source": ""
        }
    ], 
    "metadata": {
        "kernelspec": {
            "display_name": "Python 2 with Spark 1.6", 
            "name": "python2", 
            "language": "python"
        }, 
        "name": null, 
        "dummy": null
    }, 
    "nbformat_minor": 0, 
    "nbformat": 4
}