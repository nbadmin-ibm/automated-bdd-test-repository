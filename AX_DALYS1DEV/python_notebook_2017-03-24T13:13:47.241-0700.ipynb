{
    "nbformat_minor": 0, 
    "cells": [], 
    "metadata": {
        "kernelspec": {
            "display_name": "Python 2 with Spark 1.6", 
            "name": "python2", 
            "language": "python"
        }, 
        "name": null, 
        "dummy": null
    }, 
    "nbformat": 4
}