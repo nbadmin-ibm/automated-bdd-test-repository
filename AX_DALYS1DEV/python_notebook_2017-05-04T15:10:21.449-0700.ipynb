{
    "metadata": {
        "name": null, 
        "language_info": {
            "mimetype": "text/x-python", 
            "codemirror_mode": {
                "name": "ipython", 
                "version": 2
            }, 
            "file_extension": ".py", 
            "name": "python", 
            "version": "2.7.11", 
            "nbconvert_exporter": "python", 
            "pygments_lexer": "ipython2"
        }, 
        "dummy": null, 
        "kernelspec": {
            "name": "python2-spark20", 
            "display_name": "Python 2 with Spark 2.0", 
            "language": "python"
        }
    }, 
    "cells": [
        {
            "source": "", 
            "execution_count": null, 
            "metadata": {
                "collapsed": true
            }, 
            "cell_type": "code", 
            "outputs": []
        }, 
        {
            "source": "", 
            "execution_count": null, 
            "metadata": {
                "collapsed": true
            }, 
            "cell_type": "code", 
            "outputs": []
        }
    ], 
    "nbformat": 4, 
    "nbformat_minor": 0
}