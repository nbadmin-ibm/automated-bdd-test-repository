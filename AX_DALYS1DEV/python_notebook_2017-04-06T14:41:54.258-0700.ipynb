{
    "nbformat": 4, 
    "metadata": {
        "dummy": null, 
        "name": null, 
        "kernelspec": {
            "language": "python", 
            "name": "python2", 
            "display_name": "Python 2 with Spark 1.6"
        }
    }, 
    "cells": [], 
    "nbformat_minor": 0
}